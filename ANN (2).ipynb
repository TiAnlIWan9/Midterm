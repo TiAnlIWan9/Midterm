{
  "cells": [
    {
      "cell_type": "code",
      "source": [
        "!apt-get install -y -qq software-properties-common python-software-properties module-init-tools\n",
        "!add-apt-repository -y ppa:alessandro-strada/ppa 2>&1 > /dev/null\n",
        "!apt-get update -qq 2>&1 > /dev/null\n",
        "!apt-get -y install -qq google-drive-ocamlfuse fuse\n",
        "from google.colab import auth\n",
        "auth.authenticate_user()\n",
        "from oauth2client.client import GoogleCredentials\n",
        "creds = GoogleCredentials.get_application_default()\n",
        "import getpass\n",
        "!google-drive-ocamlfuse -headless -id={creds.client_id} -secret={creds.client_secret} < /dev/null 2>&1 | grep URL\n",
        "vcode = getpass.getpass()\n",
        "!echo {vcode} | google-drive-ocamlfuse -headless -id={creds.client_id} -secret={creds.client_secret}"
      ],
      "metadata": {
        "colab": {
          "base_uri": "https://localhost:8080/"
        },
        "id": "ablSpeQq08EQ",
        "outputId": "79ee364a-3fe0-4f73-bd86-47f4855f058b"
      },
      "id": "ablSpeQq08EQ",
      "execution_count": null,
      "outputs": [
        {
          "output_type": "stream",
          "name": "stdout",
          "text": [
            "E: Package 'python-software-properties' has no installation candidate\n",
            "Selecting previously unselected package google-drive-ocamlfuse.\n",
            "(Reading database ... 155335 files and directories currently installed.)\n",
            "Preparing to unpack .../google-drive-ocamlfuse_0.7.27-0ubuntu1~ubuntu18.04.1_amd64.deb ...\n",
            "Unpacking google-drive-ocamlfuse (0.7.27-0ubuntu1~ubuntu18.04.1) ...\n",
            "Setting up google-drive-ocamlfuse (0.7.27-0ubuntu1~ubuntu18.04.1) ...\n",
            "Processing triggers for man-db (2.8.3-2ubuntu0.1) ...\n",
            "Please, open the following URL in a web browser: https://accounts.google.com/o/oauth2/auth?client_id=32555940559.apps.googleusercontent.com&redirect_uri=urn%3Aietf%3Awg%3Aoauth%3A2.0%3Aoob&scope=https%3A%2F%2Fwww.googleapis.com%2Fauth%2Fdrive&response_type=code&access_type=offline&approval_prompt=force\n",
            "··········\n",
            "Please, open the following URL in a web browser: https://accounts.google.com/o/oauth2/auth?client_id=32555940559.apps.googleusercontent.com&redirect_uri=urn%3Aietf%3Awg%3Aoauth%3A2.0%3Aoob&scope=https%3A%2F%2Fwww.googleapis.com%2Fauth%2Fdrive&response_type=code&access_type=offline&approval_prompt=force\n",
            "Please enter the verification code: Access token retrieved correctly.\n"
          ]
        }
      ]
    },
    {
      "cell_type": "code",
      "source": [
        "from google.colab import drive\n",
        "drive.mount('/content/drive')"
      ],
      "metadata": {
        "colab": {
          "base_uri": "https://localhost:8080/"
        },
        "id": "cqguIynG5nTH",
        "outputId": "f2b9373d-47d8-4c29-e274-e6bbbfebb9cd"
      },
      "id": "cqguIynG5nTH",
      "execution_count": null,
      "outputs": [
        {
          "output_type": "stream",
          "name": "stdout",
          "text": [
            "Drive already mounted at /content/drive; to attempt to forcibly remount, call drive.mount(\"/content/drive\", force_remount=True).\n"
          ]
        }
      ]
    },
    {
      "cell_type": "code",
      "execution_count": 2,
      "id": "73e7ad09",
      "metadata": {
        "id": "73e7ad09"
      },
      "outputs": [],
      "source": [
        "import os\n",
        "import pandas as pd\n",
        "import numpy as np\n"
      ]
    },
    {
      "cell_type": "code",
      "execution_count": 3,
      "id": "7b4cb00a",
      "metadata": {
        "colab": {
          "base_uri": "https://localhost:8080/"
        },
        "id": "7b4cb00a",
        "outputId": "293a5abe-5d7d-4f6f-b920-90e0f49fd854"
      },
      "outputs": [
        {
          "output_type": "stream",
          "name": "stdout",
          "text": [
            "      dry_bulb  wet_bulb  dew_point  Rel_Hum  Station_Press\n",
            "0          6.7       3.9        0.0     63.0          27.78\n",
            "1          6.7       3.9        0.0     63.0          27.75\n",
            "2          5.6       3.7        1.7     76.0          27.78\n",
            "3          5.6       4.0        2.2     79.0          27.79\n",
            "4          5.6       4.4        3.3     85.0          27.79\n",
            "...        ...       ...        ...      ...            ...\n",
            "3086      16.7      12.3        7.2     54.0          27.91\n",
            "3087      15.0      11.4        7.8     62.0          27.92\n",
            "3088      15.0      11.4        7.8     62.0          27.92\n",
            "3089      13.3      10.4        7.8     70.0          27.90\n",
            "3090      13.3      10.4        7.8     70.0          27.90\n",
            "\n",
            "[3091 rows x 5 columns]\n"
          ]
        }
      ],
      "source": [
        "weather = pd.read_excel('/content/drive/My Drive/LCD_sample_data.xlsx')\n",
        "print(weather)\n",
        "median1 = weather[\"dry_bulb\"].median()\n",
        "weather[\"dry_bulb\"].fillna(median1,inplace = True)\n",
        "median2 = weather[\"wet_bulb\"].median()\n",
        "weather[\"wet_bulb\"].fillna(median2,inplace = True)\n",
        "median3 = weather[\"Rel_Hum\"].median()\n",
        "weather[\"Rel_Hum\"].fillna(median3,inplace = True)\n",
        "median4 = weather[\"dew_point\"].median()\n",
        "weather[\"dew_point\"].fillna(median4,inplace = True)\n",
        "median5 = weather[\"Station_Press\"].median()\n",
        "weather[\"Station_Press\"].fillna(median5,inplace = True)"
      ]
    },
    {
      "cell_type": "code",
      "execution_count": null,
      "id": "40c5b8ab",
      "metadata": {
        "id": "40c5b8ab"
      },
      "outputs": [],
      "source": [
        "#x=[weather[\"dry_bulb\"],weather[\"wet_bulb\"],weather[\"dew_point\"],weather[\"Rel_Hum\"]]\n",
        "#y=[weather[\"Station_Press\"]]"
      ]
    },
    {
      "cell_type": "code",
      "execution_count": 4,
      "id": "0fca33af",
      "metadata": {
        "id": "0fca33af"
      },
      "outputs": [],
      "source": [
        "from sklearn.model_selection import train_test_split\n",
        "Train,Test = train_test_split(weather,test_size = 0.2)"
      ]
    },
    {
      "cell_type": "code",
      "execution_count": 5,
      "id": "76fa1ab6",
      "metadata": {
        "id": "76fa1ab6",
        "outputId": "28d0ccdd-0e6d-4229-87a9-8e956c6df811",
        "colab": {
          "base_uri": "https://localhost:8080/"
        }
      },
      "outputs": [
        {
          "output_type": "stream",
          "name": "stdout",
          "text": [
            "[1004    10.6\n",
            "1701    12.8\n",
            "2034    10.0\n",
            "1043     8.9\n",
            "1317     8.3\n",
            "        ... \n",
            "1623     6.7\n",
            "2933     9.4\n",
            "2679     4.4\n",
            "1639    18.3\n",
            "1851    10.6\n",
            "Name: dry_bulb, Length: 2472, dtype: float64, 1004     9.3\n",
            "1701    12.0\n",
            "2034     9.3\n",
            "1043     6.3\n",
            "1317     6.4\n",
            "        ... \n",
            "1623     3.0\n",
            "2933     6.8\n",
            "2679     1.6\n",
            "1639    13.3\n",
            "1851     7.8\n",
            "Name: wet_bulb, Length: 2472, dtype: float64, 1004     8.3\n",
            "1701   -17.2\n",
            "2034     8.9\n",
            "1043     3.3\n",
            "1317     4.4\n",
            "        ... \n",
            "1623    -8.9\n",
            "2933     3.9\n",
            "2679    -3.3\n",
            "1639     5.6\n",
            "1851     5.0\n",
            "Name: dew_point, Length: 2472, dtype: float64, 1004    86.0\n",
            "1701    11.0\n",
            "2034    93.0\n",
            "1043    68.0\n",
            "1317    77.0\n",
            "        ... \n",
            "1623    32.0\n",
            "2933    69.0\n",
            "2679    58.0\n",
            "1639    43.0\n",
            "1851    69.0\n",
            "Name: Rel_Hum, Length: 2472, dtype: float64]\n",
            "[1004    26.98\n",
            "1701    27.83\n",
            "2034    27.66\n",
            "1043    27.29\n",
            "1317    27.80\n",
            "        ...  \n",
            "1623    27.89\n",
            "2933    27.76\n",
            "2679    27.80\n",
            "1639    27.85\n",
            "1851    27.65\n",
            "Name: Station_Press, Length: 2472, dtype: float64]\n"
          ]
        }
      ],
      "source": [
        "x=[Train[\"dry_bulb\"],Train[\"wet_bulb\"],Train[\"dew_point\"],Train[\"Rel_Hum\"]]\n",
        "y=[Train[\"Station_Press\"]]\n",
        "X=[Test[\"dry_bulb\"],Test[\"wet_bulb\"],Test[\"dew_point\"],Test[\"Rel_Hum\"]]\n",
        "Y=[Test[\"Station_Press\"]]\n",
        "print(x)\n",
        "print(y)"
      ]
    },
    {
      "cell_type": "code",
      "execution_count": 6,
      "id": "c4640a72",
      "metadata": {
        "scrolled": true,
        "id": "c4640a72",
        "outputId": "e9bd2747-2532-47d7-f7cd-357c9a4abd81",
        "colab": {
          "base_uri": "https://localhost:8080/"
        }
      },
      "outputs": [
        {
          "output_type": "stream",
          "name": "stdout",
          "text": [
            "[[26.98 27.83 27.66 ... 27.8  27.85 27.65]]\n",
            "(1, 619)\n"
          ]
        }
      ],
      "source": [
        "from sklearn.preprocessing import StandardScaler \n",
        "Scaler = StandardScaler() \n",
        "x = Scaler.fit_transform(x) \n",
        "X = Scaler.fit_transform(X) \n",
        "#print(x)\n",
        "#print(X.shape)\n",
        "y=np.array(y)\n",
        "Y=np.array(Y)\n",
        "print(y)\n",
        "print(Y.shape)\n",
        "#print(x.size)\n",
        "#print(y.size)\n",
        "x=np.transpose(x)\n",
        "X=np.transpose(X)\n",
        "y=np.transpose(y)\n",
        "Y=np.transpose(Y)"
      ]
    },
    {
      "cell_type": "code",
      "execution_count": 12,
      "id": "9a98e702",
      "metadata": {
        "id": "9a98e702",
        "outputId": "f68d4a55-c635-4d5c-f97c-131defbd7eb4",
        "colab": {
          "base_uri": "https://localhost:8080/",
          "height": 1000
        }
      },
      "outputs": [
        {
          "output_type": "stream",
          "name": "stdout",
          "text": [
            "Epoch 1/100\n",
            "25/25 [==============================] - 1s 13ms/step - loss: 682.3141 - val_loss: 672.5340\n",
            "Epoch 2/100\n",
            "25/25 [==============================] - 0s 6ms/step - loss: 663.9318 - val_loss: 652.7321\n",
            "Epoch 3/100\n",
            "25/25 [==============================] - 0s 5ms/step - loss: 642.6464 - val_loss: 629.7811\n",
            "Epoch 4/100\n",
            "25/25 [==============================] - 0s 4ms/step - loss: 617.9999 - val_loss: 603.2181\n",
            "Epoch 5/100\n",
            "25/25 [==============================] - 0s 3ms/step - loss: 589.5908 - val_loss: 572.7725\n",
            "Epoch 6/100\n",
            "25/25 [==============================] - 0s 3ms/step - loss: 557.2068 - val_loss: 538.2321\n",
            "Epoch 7/100\n",
            "25/25 [==============================] - 0s 3ms/step - loss: 520.6882 - val_loss: 499.5423\n",
            "Epoch 8/100\n",
            "25/25 [==============================] - 0s 3ms/step - loss: 480.0995 - val_loss: 456.8894\n",
            "Epoch 9/100\n",
            "25/25 [==============================] - 0s 3ms/step - loss: 435.5493 - val_loss: 410.0925\n",
            "Epoch 10/100\n",
            "25/25 [==============================] - 0s 3ms/step - loss: 385.6675 - val_loss: 354.7617\n",
            "Epoch 11/100\n",
            "25/25 [==============================] - 0s 3ms/step - loss: 325.4004 - val_loss: 292.3103\n",
            "Epoch 12/100\n",
            "25/25 [==============================] - 0s 3ms/step - loss: 263.9205 - val_loss: 232.3653\n",
            "Epoch 13/100\n",
            "25/25 [==============================] - 0s 3ms/step - loss: 206.0623 - val_loss: 177.2622\n",
            "Epoch 14/100\n",
            "25/25 [==============================] - 0s 3ms/step - loss: 154.0085 - val_loss: 128.9984\n",
            "Epoch 15/100\n",
            "25/25 [==============================] - 0s 3ms/step - loss: 109.5635 - val_loss: 89.0700\n",
            "Epoch 16/100\n",
            "25/25 [==============================] - 0s 3ms/step - loss: 73.8676 - val_loss: 58.1217\n",
            "Epoch 17/100\n",
            "25/25 [==============================] - 0s 3ms/step - loss: 47.0829 - val_loss: 35.8707\n",
            "Epoch 18/100\n",
            "25/25 [==============================] - 0s 3ms/step - loss: 28.5018 - val_loss: 21.0809\n",
            "Epoch 19/100\n",
            "25/25 [==============================] - 0s 3ms/step - loss: 16.5906 - val_loss: 12.1000\n",
            "Epoch 20/100\n",
            "25/25 [==============================] - 0s 4ms/step - loss: 9.6279 - val_loss: 7.0530\n",
            "Epoch 21/100\n",
            "25/25 [==============================] - 0s 3ms/step - loss: 5.8574 - val_loss: 4.4677\n",
            "Epoch 22/100\n",
            "25/25 [==============================] - 0s 3ms/step - loss: 3.9806 - val_loss: 3.2338\n",
            "Epoch 23/100\n",
            "25/25 [==============================] - 0s 3ms/step - loss: 3.1033 - val_loss: 2.6767\n",
            "Epoch 24/100\n",
            "25/25 [==============================] - 0s 3ms/step - loss: 2.7115 - val_loss: 2.4247\n",
            "Epoch 25/100\n",
            "25/25 [==============================] - 0s 3ms/step - loss: 2.5303 - val_loss: 2.3053\n",
            "Epoch 26/100\n",
            "25/25 [==============================] - 0s 3ms/step - loss: 2.4356 - val_loss: 2.2420\n",
            "Epoch 27/100\n",
            "25/25 [==============================] - 0s 3ms/step - loss: 2.3793 - val_loss: 2.1936\n",
            "Epoch 28/100\n",
            "25/25 [==============================] - 0s 3ms/step - loss: 2.3345 - val_loss: 2.1519\n",
            "Epoch 29/100\n",
            "25/25 [==============================] - 0s 3ms/step - loss: 2.2936 - val_loss: 2.1142\n",
            "Epoch 30/100\n",
            "25/25 [==============================] - 0s 3ms/step - loss: 2.2550 - val_loss: 2.0763\n",
            "Epoch 31/100\n",
            "25/25 [==============================] - 0s 3ms/step - loss: 2.2156 - val_loss: 2.0411\n",
            "Epoch 32/100\n",
            "25/25 [==============================] - 0s 3ms/step - loss: 2.1785 - val_loss: 2.0025\n",
            "Epoch 33/100\n",
            "25/25 [==============================] - 0s 4ms/step - loss: 2.1401 - val_loss: 1.9659\n",
            "Epoch 34/100\n",
            "25/25 [==============================] - 0s 3ms/step - loss: 2.1026 - val_loss: 1.9304\n",
            "Epoch 35/100\n",
            "25/25 [==============================] - 0s 3ms/step - loss: 2.0655 - val_loss: 1.8971\n",
            "Epoch 36/100\n",
            "25/25 [==============================] - 0s 3ms/step - loss: 2.0304 - val_loss: 1.8605\n",
            "Epoch 37/100\n",
            "25/25 [==============================] - 0s 3ms/step - loss: 1.9928 - val_loss: 1.8271\n",
            "Epoch 38/100\n",
            "25/25 [==============================] - 0s 3ms/step - loss: 1.9580 - val_loss: 1.7921\n",
            "Epoch 39/100\n",
            "25/25 [==============================] - 0s 3ms/step - loss: 1.9226 - val_loss: 1.7583\n",
            "Epoch 40/100\n",
            "25/25 [==============================] - 0s 4ms/step - loss: 1.8882 - val_loss: 1.7248\n",
            "Epoch 41/100\n",
            "25/25 [==============================] - 0s 3ms/step - loss: 1.8542 - val_loss: 1.6927\n",
            "Epoch 42/100\n",
            "25/25 [==============================] - 0s 3ms/step - loss: 1.8200 - val_loss: 1.6617\n",
            "Epoch 43/100\n",
            "25/25 [==============================] - 0s 3ms/step - loss: 1.7868 - val_loss: 1.6316\n",
            "Epoch 44/100\n",
            "25/25 [==============================] - 0s 3ms/step - loss: 1.7562 - val_loss: 1.5990\n",
            "Epoch 45/100\n",
            "25/25 [==============================] - 0s 3ms/step - loss: 1.7227 - val_loss: 1.5706\n",
            "Epoch 46/100\n",
            "25/25 [==============================] - 0s 3ms/step - loss: 1.6924 - val_loss: 1.5421\n",
            "Epoch 47/100\n",
            "25/25 [==============================] - 0s 3ms/step - loss: 1.6626 - val_loss: 1.5137\n",
            "Epoch 48/100\n",
            "25/25 [==============================] - 0s 3ms/step - loss: 1.6330 - val_loss: 1.4860\n",
            "Epoch 49/100\n",
            "25/25 [==============================] - 0s 3ms/step - loss: 1.6043 - val_loss: 1.4591\n",
            "Epoch 50/100\n",
            "25/25 [==============================] - 0s 3ms/step - loss: 1.5758 - val_loss: 1.4337\n",
            "Epoch 51/100\n",
            "25/25 [==============================] - 0s 3ms/step - loss: 1.5490 - val_loss: 1.4075\n",
            "Epoch 52/100\n",
            "25/25 [==============================] - 0s 4ms/step - loss: 1.5227 - val_loss: 1.3819\n",
            "Epoch 53/100\n",
            "25/25 [==============================] - 0s 3ms/step - loss: 1.4969 - val_loss: 1.3570\n",
            "Epoch 54/100\n",
            "25/25 [==============================] - 0s 3ms/step - loss: 1.4706 - val_loss: 1.3362\n",
            "Epoch 55/100\n",
            "25/25 [==============================] - 0s 4ms/step - loss: 1.4485 - val_loss: 1.3128\n",
            "Epoch 56/100\n",
            "25/25 [==============================] - 0s 3ms/step - loss: 1.4237 - val_loss: 1.2932\n",
            "Epoch 57/100\n",
            "25/25 [==============================] - 0s 3ms/step - loss: 1.4017 - val_loss: 1.2724\n",
            "Epoch 58/100\n",
            "25/25 [==============================] - 0s 3ms/step - loss: 1.3795 - val_loss: 1.2529\n",
            "Epoch 59/100\n",
            "25/25 [==============================] - 0s 3ms/step - loss: 1.3591 - val_loss: 1.2320\n",
            "Epoch 60/100\n",
            "25/25 [==============================] - 0s 3ms/step - loss: 1.3380 - val_loss: 1.2135\n",
            "Epoch 61/100\n",
            "25/25 [==============================] - 0s 3ms/step - loss: 1.3180 - val_loss: 1.1967\n",
            "Epoch 62/100\n",
            "25/25 [==============================] - 0s 3ms/step - loss: 1.3003 - val_loss: 1.1785\n",
            "Epoch 63/100\n",
            "25/25 [==============================] - 0s 3ms/step - loss: 1.2815 - val_loss: 1.1633\n",
            "Epoch 64/100\n",
            "25/25 [==============================] - 0s 3ms/step - loss: 1.2648 - val_loss: 1.1478\n",
            "Epoch 65/100\n",
            "25/25 [==============================] - 0s 3ms/step - loss: 1.2481 - val_loss: 1.1331\n",
            "Epoch 66/100\n",
            "25/25 [==============================] - 0s 3ms/step - loss: 1.2322 - val_loss: 1.1193\n",
            "Epoch 67/100\n",
            "25/25 [==============================] - 0s 4ms/step - loss: 1.2166 - val_loss: 1.1061\n",
            "Epoch 68/100\n",
            "25/25 [==============================] - 0s 4ms/step - loss: 1.2024 - val_loss: 1.0923\n",
            "Epoch 69/100\n",
            "25/25 [==============================] - 0s 3ms/step - loss: 1.1881 - val_loss: 1.0805\n",
            "Epoch 70/100\n",
            "25/25 [==============================] - 0s 3ms/step - loss: 1.1749 - val_loss: 1.0698\n",
            "Epoch 71/100\n",
            "25/25 [==============================] - 0s 3ms/step - loss: 1.1627 - val_loss: 1.0583\n",
            "Epoch 72/100\n",
            "25/25 [==============================] - 0s 3ms/step - loss: 1.1502 - val_loss: 1.0482\n",
            "Epoch 73/100\n",
            "25/25 [==============================] - 0s 3ms/step - loss: 1.1388 - val_loss: 1.0383\n",
            "Epoch 74/100\n",
            "25/25 [==============================] - 0s 3ms/step - loss: 1.1281 - val_loss: 1.0288\n",
            "Epoch 75/100\n",
            "25/25 [==============================] - 0s 3ms/step - loss: 1.1176 - val_loss: 1.0197\n",
            "Epoch 76/100\n",
            "25/25 [==============================] - 0s 3ms/step - loss: 1.1075 - val_loss: 1.0122\n",
            "Epoch 77/100\n",
            "25/25 [==============================] - 0s 3ms/step - loss: 1.0987 - val_loss: 1.0038\n",
            "Epoch 78/100\n",
            "25/25 [==============================] - 0s 3ms/step - loss: 1.0897 - val_loss: 0.9969\n",
            "Epoch 79/100\n",
            "25/25 [==============================] - 0s 3ms/step - loss: 1.0813 - val_loss: 0.9901\n",
            "Epoch 80/100\n",
            "25/25 [==============================] - 0s 3ms/step - loss: 1.0735 - val_loss: 0.9836\n",
            "Epoch 81/100\n",
            "25/25 [==============================] - 0s 4ms/step - loss: 1.0667 - val_loss: 0.9771\n",
            "Epoch 82/100\n",
            "25/25 [==============================] - 0s 4ms/step - loss: 1.0586 - val_loss: 0.9719\n",
            "Epoch 83/100\n",
            "25/25 [==============================] - 0s 3ms/step - loss: 1.0524 - val_loss: 0.9661\n",
            "Epoch 84/100\n",
            "25/25 [==============================] - 0s 3ms/step - loss: 1.0458 - val_loss: 0.9612\n",
            "Epoch 85/100\n",
            "25/25 [==============================] - 0s 3ms/step - loss: 1.0399 - val_loss: 0.9566\n",
            "Epoch 86/100\n",
            "25/25 [==============================] - 0s 3ms/step - loss: 1.0343 - val_loss: 0.9518\n",
            "Epoch 87/100\n",
            "25/25 [==============================] - 0s 3ms/step - loss: 1.0286 - val_loss: 0.9478\n",
            "Epoch 88/100\n",
            "25/25 [==============================] - 0s 3ms/step - loss: 1.0236 - val_loss: 0.9439\n",
            "Epoch 89/100\n",
            "25/25 [==============================] - 0s 3ms/step - loss: 1.0188 - val_loss: 0.9403\n",
            "Epoch 90/100\n",
            "25/25 [==============================] - 0s 3ms/step - loss: 1.0145 - val_loss: 0.9369\n",
            "Epoch 91/100\n",
            "25/25 [==============================] - 0s 3ms/step - loss: 1.0109 - val_loss: 0.9334\n",
            "Epoch 92/100\n",
            "25/25 [==============================] - 0s 3ms/step - loss: 1.0059 - val_loss: 0.9305\n",
            "Epoch 93/100\n",
            "25/25 [==============================] - 0s 3ms/step - loss: 1.0024 - val_loss: 0.9274\n",
            "Epoch 94/100\n",
            "25/25 [==============================] - 0s 3ms/step - loss: 0.9987 - val_loss: 0.9247\n",
            "Epoch 95/100\n",
            "25/25 [==============================] - 0s 3ms/step - loss: 0.9951 - val_loss: 0.9224\n",
            "Epoch 96/100\n",
            "25/25 [==============================] - 0s 3ms/step - loss: 0.9918 - val_loss: 0.9201\n",
            "Epoch 97/100\n",
            "25/25 [==============================] - 0s 4ms/step - loss: 0.9894 - val_loss: 0.9175\n",
            "Epoch 98/100\n",
            "25/25 [==============================] - 0s 3ms/step - loss: 0.9858 - val_loss: 0.9156\n",
            "Epoch 99/100\n",
            "25/25 [==============================] - 0s 3ms/step - loss: 0.9831 - val_loss: 0.9135\n",
            "Epoch 100/100\n",
            "25/25 [==============================] - 0s 3ms/step - loss: 0.9804 - val_loss: 0.9118\n"
          ]
        },
        {
          "output_type": "display_data",
          "data": {
            "text/plain": [
              "<Figure size 432x288 with 1 Axes>"
            ],
            "image/png": "[encoded data removed]"
          },
          "metadata": {
            "needs_background": "light"
          }
        }
      ],
      "source": [
        "from tensorflow import keras\n",
        "import matplotlib.pyplot as plt\n",
        "model = keras.Sequential([\n",
        "        keras.layers.Dense(5,activation='relu',input_shape=[4]),\n",
        "        keras.layers.Dense(5,activation='relu'),\n",
        "        keras.layers.Dense(1)])\n",
        "\n",
        "model.compile(loss='mean_squared_error',optimizer='Adam')\n",
        "history=model.fit(x,y,batch_size = 100,epochs=100,validation_data=(X,Y))\n",
        "loss=history.history['loss']\n",
        "val_loss=history.history['val_loss']\n",
        "plt.plot(loss,'blue', label='Train_loss')\n",
        "plt.plot(val_loss,'red', label='Test_loss')\n",
        "plt.legend()\n",
        "plt.show()\n"
      ]
    },
    {
      "cell_type": "code",
      "execution_count": null,
      "id": "11d9b7d9",
      "metadata": {
        "id": "11d9b7d9",
        "colab": {
          "base_uri": "https://localhost:8080/",
          "height": 191
        },
        "outputId": "766da51c-a919-490b-d756-13c41b563f4b"
      },
      "outputs": [
        {
          "output_type": "error",
          "ename": "NameError",
          "evalue": "ignored",
          "traceback": [
            "\u001b[0;31m---------------------------------------------------------------------------\u001b[0m",
            "\u001b[0;31mNameError\u001b[0m                                 Traceback (most recent call last)",
            "\u001b[0;32m<ipython-input-23-31ad3c1aefe1>\u001b[0m in \u001b[0;36m<module>\u001b[0;34m()\u001b[0m\n\u001b[1;32m      1\u001b[0m \u001b[0;32mimport\u001b[0m \u001b[0mmatplotlib\u001b[0m\u001b[0;34m.\u001b[0m\u001b[0mpyplot\u001b[0m \u001b[0;32mas\u001b[0m \u001b[0mplt\u001b[0m\u001b[0;34m\u001b[0m\u001b[0;34m\u001b[0m\u001b[0m\n\u001b[0;32m----> 2\u001b[0;31m \u001b[0mplt\u001b[0m\u001b[0;34m.\u001b[0m\u001b[0mplot\u001b[0m\u001b[0;34m(\u001b[0m\u001b[0mloss\u001b[0m\u001b[0;34m)\u001b[0m\u001b[0;34m\u001b[0m\u001b[0;34m\u001b[0m\u001b[0m\n\u001b[0m",
            "\u001b[0;31mNameError\u001b[0m: name 'loss' is not defined"
          ]
        }
      ],
      "source": [
        "import matplotlib.pyplot as plt\n",
        "plt.plot(loss)"
      ]
    }
  ],
  "metadata": {
    "kernelspec": {
      "display_name": "Python 3 (ipykernel)",
      "language": "python",
      "name": "python3"
    },
    "language_info": {
      "codemirror_mode": {
        "name": "ipython",
        "version": 3
      },
      "file_extension": ".py",
      "mimetype": "text/x-python",
      "name": "python",
      "nbconvert_exporter": "python",
      "pygments_lexer": "ipython3",
      "version": "3.8.12"
    },
    "colab": {
      "name": "ANN.ipynb",
      "provenance": [],
      "collapsed_sections": []
    }
  },
  "nbformat": 4,
  "nbformat_minor": 5
}